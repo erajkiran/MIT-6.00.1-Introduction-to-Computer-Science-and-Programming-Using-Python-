{
 "cells": [
  {
   "cell_type": "code",
   "execution_count": 1,
   "metadata": {
    "collapsed": true
   },
   "outputs": [],
   "source": [
    "def guess():\n",
    "    low = 0\n",
    "    high = 100\n",
    "    print('Please think of a number between 0 and 100! \\n')\n",
    "    while True:\n",
    "        guess = (high + low)//2\n",
    "        print('\\n Is your secret number ' + str(guess) + ' ? \\n ')\n",
    "        print(\"\\n \\t * Enter 'h' to indicate the guess is too high.\\n\\t * Enter 'l' to indicate the guess is too low.\\n\\t * Enter 'c' to indicate I guessed correctly.\")\n",
    "        a = input(\"\\n Please Enter Your Choice : \")\n",
    "        if a == 'c':\n",
    "            print(' \\n Game over. Your secret number was:', str(guess))\n",
    "            break\n",
    "        elif a == 'l':\n",
    "            low = guess\n",
    "        elif a == 'h':\n",
    "            high = guess\n",
    "        else:\n",
    "            print(' \\n Sorry, I did not understand your input.')"
   ]
  },
  {
   "cell_type": "code",
   "execution_count": 2,
   "metadata": {},
   "outputs": [
    {
     "name": "stdout",
     "output_type": "stream",
     "text": [
      "Please think of a number between 0 and 100! \n",
      "\n",
      "\n",
      " Is your secret number 50 ? \n",
      " \n",
      "\n",
      " \t * Enter 'h' to indicate the guess is too high.\n",
      "\t * Enter 'l' to indicate the guess is too low.\n",
      "\t * Enter 'c' to indicate I guessed correctly.\n",
      "\n",
      " Please Enter Your Choice : h\n",
      "\n",
      " Is your secret number 25 ? \n",
      " \n",
      "\n",
      " \t * Enter 'h' to indicate the guess is too high.\n",
      "\t * Enter 'l' to indicate the guess is too low.\n",
      "\t * Enter 'c' to indicate I guessed correctly.\n",
      "\n",
      " Please Enter Your Choice : l\n",
      "\n",
      " Is your secret number 37 ? \n",
      " \n",
      "\n",
      " \t * Enter 'h' to indicate the guess is too high.\n",
      "\t * Enter 'l' to indicate the guess is too low.\n",
      "\t * Enter 'c' to indicate I guessed correctly.\n",
      "\n",
      " Please Enter Your Choice : l\n",
      "\n",
      " Is your secret number 43 ? \n",
      " \n",
      "\n",
      " \t * Enter 'h' to indicate the guess is too high.\n",
      "\t * Enter 'l' to indicate the guess is too low.\n",
      "\t * Enter 'c' to indicate I guessed correctly.\n",
      "\n",
      " Please Enter Your Choice : l\n",
      "\n",
      " Is your secret number 46 ? \n",
      " \n",
      "\n",
      " \t * Enter 'h' to indicate the guess is too high.\n",
      "\t * Enter 'l' to indicate the guess is too low.\n",
      "\t * Enter 'c' to indicate I guessed correctly.\n",
      "\n",
      " Please Enter Your Choice : l\n",
      "\n",
      " Is your secret number 48 ? \n",
      " \n",
      "\n",
      " \t * Enter 'h' to indicate the guess is too high.\n",
      "\t * Enter 'l' to indicate the guess is too low.\n",
      "\t * Enter 'c' to indicate I guessed correctly.\n",
      "\n",
      " Please Enter Your Choice : h\n",
      "\n",
      " Is your secret number 47 ? \n",
      " \n",
      "\n",
      " \t * Enter 'h' to indicate the guess is too high.\n",
      "\t * Enter 'l' to indicate the guess is too low.\n",
      "\t * Enter 'c' to indicate I guessed correctly.\n",
      "\n",
      " Please Enter Your Choice : c\n",
      " \n",
      " Game over. Your secret number was: 47\n"
     ]
    }
   ],
   "source": [
    "guess()"
   ]
  },
  {
   "cell_type": "code",
   "execution_count": 3,
   "metadata": {},
   "outputs": [
    {
     "name": "stdout",
     "output_type": "stream",
     "text": [
      "Please think of a number between 0 and 100! \n",
      "\n",
      "\n",
      " Is your secret number 50 ? \n",
      " \n",
      "\n",
      " \t * Enter 'h' to indicate the guess is too high.\n",
      "\t * Enter 'l' to indicate the guess is too low.\n",
      "\t * Enter 'c' to indicate I guessed correctly.\n",
      "\n",
      " Please Enter Your Choice : l\n",
      "\n",
      " Is your secret number 75 ? \n",
      " \n",
      "\n",
      " \t * Enter 'h' to indicate the guess is too high.\n",
      "\t * Enter 'l' to indicate the guess is too low.\n",
      "\t * Enter 'c' to indicate I guessed correctly.\n",
      "\n",
      " Please Enter Your Choice : h\n",
      "\n",
      " Is your secret number 62 ? \n",
      " \n",
      "\n",
      " \t * Enter 'h' to indicate the guess is too high.\n",
      "\t * Enter 'l' to indicate the guess is too low.\n",
      "\t * Enter 'c' to indicate I guessed correctly.\n",
      "\n",
      " Please Enter Your Choice : l\n",
      "\n",
      " Is your secret number 68 ? \n",
      " \n",
      "\n",
      " \t * Enter 'h' to indicate the guess is too high.\n",
      "\t * Enter 'l' to indicate the guess is too low.\n",
      "\t * Enter 'c' to indicate I guessed correctly.\n",
      "\n",
      " Please Enter Your Choice : h\n",
      "\n",
      " Is your secret number 65 ? \n",
      " \n",
      "\n",
      " \t * Enter 'h' to indicate the guess is too high.\n",
      "\t * Enter 'l' to indicate the guess is too low.\n",
      "\t * Enter 'c' to indicate I guessed correctly.\n",
      "\n",
      " Please Enter Your Choice : h\n",
      "\n",
      " Is your secret number 63 ? \n",
      " \n",
      "\n",
      " \t * Enter 'h' to indicate the guess is too high.\n",
      "\t * Enter 'l' to indicate the guess is too low.\n",
      "\t * Enter 'c' to indicate I guessed correctly.\n",
      "\n",
      " Please Enter Your Choice : c\n",
      " \n",
      " Game over. Your secret number was: 63\n"
     ]
    }
   ],
   "source": [
    "guess()"
   ]
  },
  {
   "cell_type": "code",
   "execution_count": null,
   "metadata": {
    "collapsed": true
   },
   "outputs": [],
   "source": []
  }
 ],
 "metadata": {
  "kernelspec": {
   "display_name": "Python 3",
   "language": "python",
   "name": "python3"
  },
  "language_info": {
   "codemirror_mode": {
    "name": "ipython",
    "version": 3
   },
   "file_extension": ".py",
   "mimetype": "text/x-python",
   "name": "python",
   "nbconvert_exporter": "python",
   "pygments_lexer": "ipython3",
   "version": "3.6.2"
  }
 },
 "nbformat": 4,
 "nbformat_minor": 2
}
